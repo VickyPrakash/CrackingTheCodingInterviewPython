{
 "cells": [
  {
   "cell_type": "code",
   "execution_count": 40,
   "metadata": {},
   "outputs": [
    {
     "name": "stdout",
     "output_type": "stream",
     "text": [
      "True\n"
     ]
    }
   ],
   "source": [
    "import math;\n",
    "def checkPrimality(num):\n",
    "    if(num <2):\n",
    "        return False;\n",
    "    else:\n",
    "        index = math.floor(math.sqrt(num));\n",
    "        #print(index);\n",
    "        for i in range(2, index+1):\n",
    "            #print(i);\n",
    "            if(num % i == 0):\n",
    "                return False;\n",
    "    return True;\n",
    "\n",
    "print(checkPrimality(113));"
   ]
  },
  {
   "cell_type": "code",
   "execution_count": 42,
   "metadata": {},
   "outputs": [
    {
     "name": "stdout",
     "output_type": "stream",
     "text": [
      "[2, 3, 5, 7, 11, 13, 17, 19, 23, 29, 31, 37, 41, 43, 47, 53, 59, 61, 67, 71, 73, 79, 83, 89, 97, 101, 103, 107, 109, 113, 127, 131, 137, 139, 149, 151, 157, 163, 167, 173, 179, 181, 191, 193, 197, 199]\n"
     ]
    }
   ],
   "source": [
    "def findPrime(num):\n",
    "    a = [];\n",
    "    if(num < 2):\n",
    "        return a;\n",
    "    else:\n",
    "        \n",
    "        for i in range (2, num+1):\n",
    "            if(checkPrimality(i)):\n",
    "                a.append(i)\n",
    "        return a;\n",
    "        \n",
    "b = findPrime(200);\n",
    "print(b);"
   ]
  },
  {
   "cell_type": "code",
   "execution_count": 47,
   "metadata": {},
   "outputs": [
    {
     "name": "stdout",
     "output_type": "stream",
     "text": [
      "[2, 3, 5, 7, 11, 13, 17, 19, 23, 29, 31, 37, 41, 43, 47, 53, 59, 61, 67, 71, 73, 79, 83, 89, 97, 101]\n"
     ]
    }
   ],
   "source": [
    "def crossOff(array):\n",
    "    b = [];\n",
    "    for i in range(len(array)):\n",
    "        if(array[i]%array[0] != 0):\n",
    "            b.append(array[i]);\n",
    "    return b;\n",
    "\n",
    "def SieveofEratosthenes(num):\n",
    "    a = [];\n",
    "    for i in range(2, num+1):\n",
    "        a.append(i);\n",
    "    b = [];\n",
    "    while(len(a) > 0):\n",
    "        b.append(a[0]);\n",
    "        a = crossOff(a);\n",
    "    return b;\n",
    "\n",
    "prime = SieveofEratosthenes(101);\n",
    "print(prime);"
   ]
  },
  {
   "cell_type": "code",
   "execution_count": 55,
   "metadata": {},
   "outputs": [
    {
     "name": "stdout",
     "output_type": "stream",
     "text": [
      "The sex ratio for 10 families is : 0.625\n",
      "10\n",
      "6\n"
     ]
    }
   ],
   "source": [
    "import random;\n",
    "def genderRatio(num):\n",
    "    girl = 0;\n",
    "    boy = 0;\n",
    "    for i in range(num):\n",
    "        kid = oneFamily();\n",
    "        girl += kid[0];\n",
    "        \n",
    "        boy += kid[1];\n",
    "    ratio = girl/ (girl + boy);\n",
    "    print(\"The sex ratio for {} families is : {}\".format(str(num), str(ratio)));\n",
    "    print(girl);\n",
    "    print(boy);\n",
    "def oneFamily():\n",
    "    girl = 0;\n",
    "    boy = 0;\n",
    "    while(girl == 0):\n",
    "        if(bool(random.getrandbits(1))):\n",
    "            girl = girl+1;\n",
    "        else:\n",
    "            boy += 1;\n",
    "    return [girl, boy];\n",
    "\n",
    "genderRatio(10);"
   ]
  },
  {
   "cell_type": "code",
   "execution_count": null,
   "metadata": {},
   "outputs": [],
   "source": []
  }
 ],
 "metadata": {
  "kernelspec": {
   "display_name": "Python 3",
   "language": "python",
   "name": "python3"
  },
  "language_info": {
   "codemirror_mode": {
    "name": "ipython",
    "version": 3
   },
   "file_extension": ".py",
   "mimetype": "text/x-python",
   "name": "python",
   "nbconvert_exporter": "python",
   "pygments_lexer": "ipython3",
   "version": "3.6.4"
  }
 },
 "nbformat": 4,
 "nbformat_minor": 2
}
