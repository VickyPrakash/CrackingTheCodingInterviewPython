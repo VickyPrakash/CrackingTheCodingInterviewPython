{
 "cells": [
  {
   "cell_type": "code",
   "execution_count": 8,
   "metadata": {},
   "outputs": [
    {
     "name": "stdout",
     "output_type": "stream",
     "text": [
      "All unique characters.\n"
     ]
    }
   ],
   "source": [
    "def UniqueString(str):\n",
    "    k = len(str);\n",
    "    token = 0;\n",
    "    for i in range (k):\n",
    "        for j in range (k-i-1):\n",
    "            if(token == 1):\n",
    "                break;\n",
    "            if(str[i] == str[i+j+1]):\n",
    "                print(\"String doesn't include all unique characters\");\n",
    "                token = 1;\n",
    "                break;\n",
    "            \n",
    "    if (token == 0):\n",
    "        print(\"All unique characters.\");\n",
    "    \n",
    "\n",
    "\n",
    "UniqueString(\"shyam\")"
   ]
  },
  {
   "cell_type": "code",
   "execution_count": 14,
   "metadata": {},
   "outputs": [
    {
     "name": "stdout",
     "output_type": "stream",
     "text": [
      "shyam and amysh are permutaion of each other.\n"
     ]
    }
   ],
   "source": [
    "def CheckPermutation(string1, string2):\n",
    "    if(len(string1) != len(string2)):\n",
    "        print(\"Strings are not a permutation of each other\");\n",
    "    else:\n",
    "        sorted1 = \"\".join(sorted(string1));\n",
    "        sorted2 = \"\".join(sorted(string2));\n",
    "        if(sorted1 == sorted2):\n",
    "            print(string1 +\" and \"+ string2+ \" are permutaion of each other.\");\n",
    "        else:\n",
    "            print(string1 +\" and \"+ string2+ \" are not the permutation of each other.\");\n",
    "\n",
    "CheckPermutation(\"shyam\", \"amysh\");"
   ]
  },
  {
   "cell_type": "code",
   "execution_count": 18,
   "metadata": {},
   "outputs": [
    {
     "name": "stdout",
     "output_type": "stream",
     "text": [
      "ram%20is%20a%20good%20boy.\n"
     ]
    }
   ],
   "source": [
    "def URLify(str):\n",
    "    newstring = \"\";\n",
    "    k = len(str);\n",
    "    while(str[k-1] == \" \"):\n",
    "        k = k-1;\n",
    "    for i in range(k):\n",
    "        if(str[i] == \" \"):\n",
    "            newstring = newstring + \"%20\";\n",
    "        else:\n",
    "            newstring = newstring + str[i];\n",
    "    print(newstring);\n",
    "    \n",
    "    \n",
    "URLify(\"ram is a good boy.    \")"
   ]
  },
  {
   "cell_type": "code",
   "execution_count": 28,
   "metadata": {},
   "outputs": [
    {
     "name": "stdout",
     "output_type": "stream",
     "text": [
      "aaccoot\n",
      "Given phrase is a palindrome permutation\n"
     ]
    }
   ],
   "source": [
    "def PalindromePermutation(str):\n",
    "    newstring = \"\";\n",
    "    k  = len(str);\n",
    "    for i in range(k):\n",
    "        if(str[i] != \" \"):\n",
    "            newstring = newstring + str[i];\n",
    "    sortedstring = \"\".join(sorted(newstring))  \n",
    "    lensorted = len(sortedstring);\n",
    "    i = 0;\n",
    "    flag = 0;\n",
    "    while(i < lensorted-2):\n",
    "        if(sortedstring[i] == sortedstring[i+1]):\n",
    "            i = i+2;\n",
    "        else:\n",
    "            i = i+1;\n",
    "            flag += 1;\n",
    "    print(sortedstring);\n",
    "    if(flag < 2):\n",
    "        print(\"Given phrase is a palindrome permutation\");\n",
    "    else:\n",
    "        print(\"Not a palindrome permutation\");\n",
    "PalindromePermutation(\"taco coa\")"
   ]
  },
  {
   "cell_type": "code",
   "execution_count": 41,
   "metadata": {},
   "outputs": [
    {
     "name": "stdout",
     "output_type": "stream",
     "text": [
      "The strings are more than One Edit Away\n"
     ]
    }
   ],
   "source": [
    "def OneAway(str1, str2):\n",
    "    flag = 0;\n",
    "    i = 0;\n",
    "    j = 0;\n",
    "    a = len(str1);\n",
    "    b = len(str2);\n",
    "    if (a == b-1):\n",
    "        while(j < b):\n",
    "            if(str1[i] != str2[j]):\n",
    "                flag += 1;\n",
    "                j = j+1;\n",
    "            else:\n",
    "                i += 1;\n",
    "                j += 1;\n",
    "    elif (a == b+1):\n",
    "        while(i < a):\n",
    "            if(str1[i] != str2[j]):\n",
    "                flag += 1;\n",
    "                i += 1;\n",
    "            else:\n",
    "                i += 1;\n",
    "                j += 1;\n",
    "    elif (a == b):\n",
    "        while(i < a):\n",
    "            if(str1[i] != str2[j]):\n",
    "                flag += 1;\n",
    "            \n",
    "            i += 1;\n",
    "            j += 1;\n",
    "    else:\n",
    "        flag = 2;\n",
    "    \n",
    "    if(flag < 2):\n",
    "        print(\"The strings are One Edit Away\");\n",
    "    else:\n",
    "        print(\"The strings are more than One Edit Away\");\n",
    "        \n",
    "OneAway(\"palkd\", \"pales\");\n",
    "            \n",
    "                "
   ]
  },
  {
   "cell_type": "code",
   "execution_count": 45,
   "metadata": {},
   "outputs": [
    {
     "name": "stdout",
     "output_type": "stream",
     "text": [
      "a2d1s1a3f3g2t1\n"
     ]
    }
   ],
   "source": [
    "def StringCompression(string):\n",
    "    compressedString = \"\";\n",
    "    k = len(string);\n",
    "    count = 0;\n",
    "    i = 0;\n",
    "    j = 0;\n",
    "    while(i< k):\n",
    "        if(string[j] == string[i]):\n",
    "            i += 1;\n",
    "            count += 1;\n",
    "        else:\n",
    "            compressedString = compressedString + string[j] + str(count);\n",
    "            j = i;\n",
    "            count = 0;\n",
    "    compressedString = compressedString + string[j] + str(count);\n",
    "    print(compressedString);\n",
    "\n",
    "StringCompression(\"aadsaaafffggt\");"
   ]
  },
  {
   "cell_type": "code",
   "execution_count": 50,
   "metadata": {},
   "outputs": [
    {
     "name": "stdout",
     "output_type": "stream",
     "text": [
      "[[1, 5, 9, 13], [2, 6, 10, 14], [3, 7, 11, 15], [4, 8, 12, 16]]\n"
     ]
    }
   ],
   "source": [
    "def RotateMatrix(image):\n",
    "    n = len(image);\n",
    "    for i in range(n):\n",
    "        for j in range(i,n):\n",
    "            temp = image[i][j];\n",
    "            image[i][j] = image[j][i];\n",
    "            image[j][i] = temp;\n",
    "    \n",
    "    print(image);\n",
    "    \n",
    "array = [[1, 2, 3, 4], [5, 6, 7, 8], [9, 10, 11, 12], [13, 14, 15, 16]];\n",
    "RotateMatrix(array);"
   ]
  },
  {
   "cell_type": "code",
   "execution_count": 53,
   "metadata": {},
   "outputs": [
    {
     "name": "stdout",
     "output_type": "stream",
     "text": [
      "[[0, 0, 0, 0], [0, 2, 3, 0], [0, 0, 0, 0], [0, 4, 7, 0]]\n"
     ]
    }
   ],
   "source": [
    "def ZeroMatrix(matrix):\n",
    "    n = len(matrix);\n",
    "    m = len(matrix[0]);\n",
    "    index = [];\n",
    "    for i in range(n):\n",
    "        for j in range(m):\n",
    "            if (matrix[i][j] == 0):\n",
    "                index.append([i, j]);\n",
    "    for i in range(len(index)):\n",
    "        [k, l] = index[i];\n",
    "        for j in range(n):\n",
    "            matrix[j][l] = 0;\n",
    "        for j in range(m):\n",
    "            matrix[k][j] = 0;\n",
    "    print(matrix);\n",
    "    \n",
    "matrix = [[0, 1, 2, 3], [1, 2, 3, 4], [0, 1, 2, 0], [3, 4, 7, 5]]\n",
    "ZeroMatrix(matrix);"
   ]
  },
  {
   "cell_type": "code",
   "execution_count": 57,
   "metadata": {},
   "outputs": [
    {
     "name": "stdout",
     "output_type": "stream",
     "text": [
      "Not a rotation of each other\n"
     ]
    }
   ],
   "source": [
    "def StringRotation(string1, string2):\n",
    "    if(len(string1) != len(string2)):\n",
    "        print(\"Strings are not a rotation of each other\");\n",
    "    else:\n",
    "        a = len(string1);\n",
    "        b = len(string2);\n",
    "        token = 0;\n",
    "        i = 0;\n",
    "        j = 0;\n",
    "        while(j < b):\n",
    "            if(string1[i] == string2[j]):\n",
    "                i += 1;\n",
    "                j += 1;\n",
    "            else:\n",
    "                token = j;\n",
    "                i = 0;\n",
    "                j += 1;\n",
    "        if(string1[i:a] == string2[0: token+1]):\n",
    "            print(\"Given Strings are rotation of each other\");\n",
    "        else:\n",
    "            print(\"Not a rotation of each other\");\n",
    "\n",
    "StringRotation(\"waterwavewear\", \"wearwavewater\");"
   ]
  },
  {
   "cell_type": "code",
   "execution_count": null,
   "metadata": {},
   "outputs": [],
   "source": []
  }
 ],
 "metadata": {
  "kernelspec": {
   "display_name": "Python 3",
   "language": "python",
   "name": "python3"
  },
  "language_info": {
   "codemirror_mode": {
    "name": "ipython",
    "version": 3
   },
   "file_extension": ".py",
   "mimetype": "text/x-python",
   "name": "python",
   "nbconvert_exporter": "python",
   "pygments_lexer": "ipython3",
   "version": "3.6.4"
  }
 },
 "nbformat": 4,
 "nbformat_minor": 2
}
